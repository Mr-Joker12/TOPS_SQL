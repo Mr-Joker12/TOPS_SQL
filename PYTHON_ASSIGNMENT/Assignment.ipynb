{
 "cells": [
  {
   "cell_type": "code",
   "execution_count": null,
   "id": "c3560129-5f08-4012-8b0c-25dea940813c",
   "metadata": {},
   "outputs": [],
   "source": [
    "##Ques1) What are the types of Applications?\n",
    "\n",
    "##Ans) There are some type of Application are :-\n",
    "##a) Desktop application. \n",
    "##b) Web application.\n",
    "##c) Moblie application.\n",
    "##d) Enterpris application.\n",
    "##e) Gaming application.\n",
    "##f) E-commerce application.\n",
    "##g) Education application."
   ]
  },
  {
   "cell_type": "code",
   "execution_count": null,
   "id": "dda4123d-f0e7-43f5-9938-3378c8010222",
   "metadata": {},
   "outputs": [],
   "source": [
    "##Ques2) What is programing?\n",
    "\n",
    "##Ans) Progamming is the process of creating intruction for computer to perform specific taste. These instruction know as code are written \n",
    "##in programming language like pyhthon,Java ,C++ or Java script.\n",
    "\n",
    "##Problem Analysis.\n",
    "##Coding.\n",
    "##Testing.\n",
    "##Maintenace."
   ]
  },
  {
   "cell_type": "code",
   "execution_count": null,
   "id": "8bbe4762-d0c7-4f58-bdfd-920ab0657ee6",
   "metadata": {},
   "outputs": [],
   "source": [
    "##Ques3) What is Python?\n",
    "\n",
    "##Ans) Python is general propose high level programming language that is used for a variety of tasks including,\n",
    "## Web development.\n",
    "## Software development.\n",
    "## Data science.\n",
    "## Automation.\n",
    "\n",
    "## Python is a popular choice for many reason:-\n",
    "## Ease to use.\n",
    "## Efficiency.\n",
    "## Versatiliyty.\n",
    "## Open source.\n",
    "## Free to download."
   ]
  },
  {
   "cell_type": "code",
   "execution_count": null,
   "id": "1b3f8963-a182-4e30-9ece-0f65507e2c11",
   "metadata": {},
   "outputs": [],
   "source": [
    "## Ques7) How memory is managed in Python?\n",
    "\n",
    "## Ans) Python uses serval method to manage memory like:-\n",
    "## Garbage collection.\n",
    "## Private heap.\n",
    "## Generator And Iterators.\n",
    "## GIL ( Global Interpreter Lock).\n",
    "## Namespaces.\n",
    "\n",
    "## To Avoid memory corruption, extension writes should not use the c library function mallock, callock, realock and free(). to operate \n",
    "## om python objects."
   ]
  },
  {
   "cell_type": "code",
   "execution_count": 6,
   "id": "b3b0f7e7-b466-48fe-9d4f-e47dda4104c5",
   "metadata": {},
   "outputs": [
    {
     "name": "stdout",
     "output_type": "stream",
     "text": [
      "4\n",
      "5\n",
      "7\n",
      "8\n",
      "10\n",
      "11\n",
      "13\n",
      "14\n",
      "16\n",
      "17\n",
      "19\n",
      "20\n",
      "22\n",
      "23\n"
     ]
    }
   ],
   "source": [
    "## Ques8) What is the purpose continuing statement in python?\n",
    "\n",
    "## Ans) The continue statement is used to skip to remaining code inside a loopfor the current iteration only.\n",
    "## Syntax\n",
    "## using continue in a for loop:-\n",
    "\n",
    "for num in range(4, 24):\n",
    "    if num % 3 == 0:  # Check if the number is even\n",
    "        continue      # Skip the rest of the loop for even numbers\n",
    "    print(num)       # This will only print odd numbers\n"
   ]
  },
  {
   "cell_type": "code",
   "execution_count": 10,
   "id": "b4f00183-49e4-452c-8642-ecc9f9e66843",
   "metadata": {},
   "outputs": [
    {
     "name": "stdout",
     "output_type": "stream",
     "text": [
      "Before swapping:\n",
      "a = 5\n",
      "b = 10\n",
      "After swapping:\n",
      "a = 5\n",
      "b = 10\n"
     ]
    }
   ],
   "source": [
    "## Ques9) Write python program that swap two number with temp variable and without temp variable ?\n",
    "\n",
    "##Ans) Python program to swap two variable\n",
    "\n",
    "# Swapping without a temporary variable\n",
    "a = 5\n",
    "b = 10\n",
    "\n",
    "print(\"Before swapping:\")\n",
    "print(\"a =\", a)\n",
    "print(\"b =\", b)\n",
    "\n",
    "print(\"After swapping:\")\n",
    "print(\"a =\", a)\n",
    "print(\"b =\", b)\n"
   ]
  },
  {
   "cell_type": "code",
   "execution_count": null,
   "id": "e096a930-4fbb-4a9f-b65f-fcd868241111",
   "metadata": {},
   "outputs": [],
   "source": [
    "## Ques12) Write a Python program to sum of three given integers. However, if two value are equal sum will be zero ?\n",
    "\n",
    "## Ans) Funtion to calculate the sum of three interger \n",
    "\n",
    "def sum_of_three(a, b, c):\n",
    "    # Check if any two values are equal\n",
    "    if a == b or a == c or b == c:\n",
    "        return 0\n",
    "    else:\n",
    "        return a + b + c\n",
    "\n",
    "# Example usage\n",
    "num1 = int(input(\"Enter the first integer: \"))\n",
    "num2 = int(input(\"Enter the second integer: \"))\n",
    "num3 = int(input(\"Enter the third integer: \"))\n",
    "\n",
    "result = sum_of_three(num1, num2, num3)\n",
    "print(\"The result is:\", result)\n"
   ]
  },
  {
   "cell_type": "code",
   "execution_count": 3,
   "id": "cd4adf81-222f-497a-b540-e868d3438325",
   "metadata": {},
   "outputs": [
    {
     "name": "stdin",
     "output_type": "stream",
     "text": [
      "Enter a positive integer:  4\n"
     ]
    },
    {
     "name": "stdout",
     "output_type": "stream",
     "text": [
      "Sum of the first 4 positive integers (using formula): 10\n",
      "Sum of the first 4 positive integers (using loop): 10\n"
     ]
    }
   ],
   "source": [
    "## Ques14) Write a python program to sum of the first n positive integers ?\n",
    "\n",
    "## Ans) Funtion to calculate the sum of the first n positive interger\n",
    "\n",
    "def sum_of_first_n(n):\n",
    "    # Method 1: Using the formula\n",
    "    formula_sum = n * (n + 1) // 2\n",
    "    \n",
    "    # Method 2: Using a loop\n",
    "    loop_sum = 0\n",
    "    for i in range(1, n + 1):\n",
    "        loop_sum += i\n",
    "    \n",
    "    return formula_sum, loop_sum\n",
    "\n",
    "# Input from the user\n",
    "n = int(input(\"Enter a positive integer: \"))\n",
    "\n",
    "if n > 0:\n",
    "    formula_result, loop_result = sum_of_first_n(n)\n",
    "    print(f\"Sum of the first {n} positive integers (using formula): {formula_result}\")\n",
    "    print(f\"Sum of the first {n} positive integers (using loop): {loop_result}\")\n",
    "else:\n",
    "    print(\"Please enter a positive integer.\")"
   ]
  },
  {
   "cell_type": "code",
   "execution_count": 5,
   "id": "fbcc98b5-dd3f-4450-99fc-7008adb9d0e2",
   "metadata": {},
   "outputs": [
    {
     "name": "stdin",
     "output_type": "stream",
     "text": [
      "Enter a string:  2\n"
     ]
    },
    {
     "name": "stdout",
     "output_type": "stream",
     "text": [
      "The length of the string is: 1\n"
     ]
    }
   ],
   "source": [
    "## Ques15) Write a Python program to calculate the length of a string ?\n",
    "\n",
    "## Ans) Python to calculate the length of a string \n",
    "# Function to calculate the length of a string\n",
    "def calculate_length(input_string):\n",
    "    return len(input_string)\n",
    "\n",
    "# Input from the user\n",
    "user_input = input(\"Enter a string: \")\n",
    "\n",
    "# Calculate length\n",
    "string_length = calculate_length(user_input)\n",
    "\n",
    "# Display the result\n",
    "print(f\"The length of the string is: {string_length}\")\n"
   ]
  },
  {
   "cell_type": "code",
   "execution_count": null,
   "id": "1ad6a407-abc5-473d-a350-33f7607ef37e",
   "metadata": {},
   "outputs": [],
   "source": [
    "## Ques17) What are negative indexes and why are they used?\n",
    "## Ans) Python is an advanced programming language with dynamic semantics and is used for developing application, writing, scripts,\n",
    "##       data analysis, machine learning etc.\n",
    "\n",
    "##       Negative indexing is used in python to manipulate sequence object such as lists array, string, etc Negative indexing retrieves\n",
    "##       elements from the end by providing negative numbers as sequence includs.\n",
    "\n",
    "##     For example given the string s = \"Python\"\n",
    "##     s[0] gives \"P\" (The first character).\n",
    "##     s[1] gives \"Y\" (The second character).\n",
    "##     s[-1] gives \"N\" (The last cahracter).\n",
    "##     s[-2] gives \"O\" (the second last character)."
   ]
  },
  {
   "cell_type": "code",
   "execution_count": 10,
   "id": "8c234743-238a-43d3-af51-e972232585ea",
   "metadata": {},
   "outputs": [
    {
     "ename": "IndentationError",
     "evalue": "unexpected indent (358709330.py, line 2)",
     "output_type": "error",
     "traceback": [
      "\u001b[1;36m  Cell \u001b[1;32mIn[10], line 2\u001b[1;36m\u001b[0m\n\u001b[1;33m    Ans)\u001b[0m\n\u001b[1;37m    ^\u001b[0m\n\u001b[1;31mIndentationError\u001b[0m\u001b[1;31m:\u001b[0m unexpected indent\n"
     ]
    }
   ],
   "source": [
    "## Ques18) Write a Python program to count occurrences of a substring in a string?\n",
    " Ans)\n",
    "# Function to count occurrences of a substring in a string\n",
    "def count_substring(main_string, substring):\n",
    "    return main_string.count(substring)\n",
    "\n",
    "# Input from the user\n",
    "main_string = input(\"Enter the main string: \")\n",
    "substring = input(\"Enter the substring to count: \")\n",
    "\n",
    "# Count occurrences\n",
    "occurrences = count_substring(main_string, substring)\n",
    "\n",
    "# Display the result\n",
    "print(f\"The substring '{substring}' occurs {occurrences} time(s) in the main string.\")\n"
   ]
  },
  {
   "cell_type": "code",
   "execution_count": 1,
   "id": "a250070b-7aff-44e1-bd02-1fed42257d97",
   "metadata": {},
   "outputs": [
    {
     "ename": "IndentationError",
     "evalue": "unexpected indent (587415785.py, line 3)",
     "output_type": "error",
     "traceback": [
      "\u001b[1;36m  Cell \u001b[1;32mIn[1], line 3\u001b[1;36m\u001b[0m\n\u001b[1;33m    result = reverse_if_multiple_ of 4 (a_input)\u001b[0m\n\u001b[1;37m    ^\u001b[0m\n\u001b[1;31mIndentationError\u001b[0m\u001b[1;31m:\u001b[0m unexpected indent\n"
     ]
    }
   ],
   "source": [
    "## Ques22) Write a Python function to reverses a string if its length is a multiple of 4 ?\n",
    "## Ans) If __name__ = \"__main__\" :\n",
    "        result = reverse_if_multiple_ of 4 (a_input)\n",
    "print (\"result:\" , result)"
   ]
  },
  {
   "cell_type": "code",
   "execution_count": 3,
   "id": "3fb92d83-9b30-4f11-9994-5c7d82a08cf0",
   "metadata": {},
   "outputs": [
    {
     "ename": "SyntaxError",
     "evalue": "unmatched ')' (2873506047.py, line 7)",
     "output_type": "error",
     "traceback": [
      "\u001b[1;36m  Cell \u001b[1;32mIn[3], line 7\u001b[1;36m\u001b[0m\n\u001b[1;33m    a) using the slice technique.\u001b[0m\n\u001b[1;37m     ^\u001b[0m\n\u001b[1;31mSyntaxError\u001b[0m\u001b[1;31m:\u001b[0m unmatched ')'\n"
     ]
    }
   ],
   "source": [
    "## Ques25) What is List? How will you reverse a list?\n",
    "## Ans) Python provide is with various way of revering a list. We will go through some of the many techiques on how a list \n",
    "##        in python can be reversed.\n",
    "\n",
    "##     Resersing a list in python.\n",
    "\n",
    "a) using the slice technique.\n",
    "b) Reversing list by swapping present and last number at a time .\n",
    "c) Using the insert() funtion.\n",
    "d) using list compresension.\n",
    "e) Reversing a list using numphly.\n"
   ]
  },
  {
   "cell_type": "code",
   "execution_count": 4,
   "id": "12f3669c-3f6d-4007-b7e0-618afbed9c61",
   "metadata": {},
   "outputs": [
    {
     "ename": "IndentationError",
     "evalue": "unexpected indent (426724137.py, line 11)",
     "output_type": "error",
     "traceback": [
      "\u001b[1;36m  Cell \u001b[1;32mIn[4], line 11\u001b[1;36m\u001b[0m\n\u001b[1;33m    list_1 = [1,2,3,4]\u001b[0m\n\u001b[1;37m    ^\u001b[0m\n\u001b[1;31mIndentationError\u001b[0m\u001b[1;31m:\u001b[0m unexpected indent\n"
     ]
    }
   ],
   "source": [
    "## Ques 26) How will you remove last object from a list?\n",
    "## Ans) One way is to use pop() method to remove the last element of a list and see method is to del() method to remove the last \n",
    "## element .\n",
    "\n",
    "##  With pop()\n",
    "## my_list = [1,2,3,4] \n",
    "## last = item = my_list.pop() ## remove and return the last item \n",
    "##  print (my_list)\n",
    "\n",
    "## With del() \n",
    " list_1 = [1,2,3,4]\n",
    "del list_1 [-1]     ## remove the last item.\n",
    "print (list_1)      ## output : [1,2,3,4]"
   ]
  },
  {
   "cell_type": "code",
   "execution_count": null,
   "id": "619c9880-e569-49e3-9da6-6cfb94da7492",
   "metadata": {},
   "outputs": [],
   "source": [
    "## Ques27) Suppose list1 is [2, 33, 222, 14, and 25], what is list1 [-1]?\n",
    "## Ans)  25"
   ]
  },
  {
   "cell_type": "code",
   "execution_count": 6,
   "id": "476ce2ab-67c2-4730-a823-a7c099f46b36",
   "metadata": {},
   "outputs": [
    {
     "ename": "SyntaxError",
     "evalue": "unmatched ')' (4186135131.py, line 5)",
     "output_type": "error",
     "traceback": [
      "\u001b[1;36m  Cell \u001b[1;32mIn[6], line 5\u001b[1;36m\u001b[0m\n\u001b[1;33m    a)  Adds a single element to the end of the list.\u001b[0m\n\u001b[1;37m     ^\u001b[0m\n\u001b[1;31mSyntaxError\u001b[0m\u001b[1;31m:\u001b[0m unmatched ')'\n"
     ]
    }
   ],
   "source": [
    "## Ques28) Differentiate between append () and extend () methods?\n",
    "## Ans) The append() and Extend() method in python are both used to add elemnts to a last but they do as in differnt ways:-\n",
    "\n",
    "##    Append() \n",
    "a)  Adds a single element to the end of the list.\n",
    "b) In simple terms this method append a single element to the tail of a list. \n",
    "\n",
    "##   Extend ()\n",
    "a) With the python extend() funtion the length of the list increases by the number of elementin the iterable.\n",
    "b) Used to concatenate lists or add multiple elements at once.\n",
    "\n",
    "## For ex append()\n",
    "## a=[1,2,3] \n",
    "## a.append(4)\n",
    "## print(a)\n",
    "## a. append ([5,6])\n",
    "## print(a)\n",
    "\n",
    "\n",
    "##  Extend()\n",
    "\n",
    "## b=[1,2,3]\n",
    "## b.extend([4,5,6])\n",
    "## print(b)"
   ]
  },
  {
   "cell_type": "code",
   "execution_count": null,
   "id": "58181e92-0033-4ba9-ac70-ec4dff84fcb3",
   "metadata": {},
   "outputs": [],
   "source": [
    "## Ques29)  Write a Python function to get the largest number, smallest num and sum of all from a list?\n",
    "\n",
    "## Ans) Max() = Finds the largest in the list.\n",
    "## Min() = Finds the smallest in the lists.\n",
    "## Sum() = Calculate the total Sum of the list element.\n"
   ]
  },
  {
   "cell_type": "code",
   "execution_count": null,
   "id": "a10545de-15cc-4194-8291-1e041b651228",
   "metadata": {},
   "outputs": [],
   "source": [
    "## Ques30) How will you compare two lists?\n",
    "\n",
    "## Ans) Use == For Equality.\n",
    "## Use zip() for elementwise comparisons.\n",
    "## Use all() for subset checks.\n",
    "## Use sorted() or set() for comparing unique elemnts irrespective of order."
   ]
  },
  {
   "cell_type": "code",
   "execution_count": null,
   "id": "0b13aed2-0dec-4fe0-b577-8c786f7fd1f4",
   "metadata": {},
   "outputs": [],
   "source": [
    "## Ques31) Write a Python program to count the number of strings where the string length is 2 or more and the first and last character\n",
    "##  are same from a given list of strings?\n",
    "\n",
    "## Ans) The function count_matching_string iterates through each string in the input list.\n",
    "##  It checks if the length of the string is 2 or more and if the frist character (s[0]) is the same as the last charcter (s[-1]).\n",
    "##  If both conditions are met it inerement the count.\n",
    "##  The function return the count of such strings. "
   ]
  },
  {
   "cell_type": "code",
   "execution_count": null,
   "id": "745426af-7abf-4b9d-8c43-aa39552ef4e0",
   "metadata": {},
   "outputs": [],
   "source": [
    "## Ques32) Write a Python program to remove duplicates from a list?\n",
    "## Ans) The function remove duplicate intializers an empty set seen to keep track of the elments that have already been encountred.\n",
    "## It also initializes an empty list result to store the unique elements.\n",
    "## As it itrates through the input list it chcks if each elements is in the seen set. \n",
    "## If not it add the elements to both the sum set and the result list.\n",
    "## The funtion return the result list , which contain the unique element in their original order.\n"
   ]
  },
  {
   "cell_type": "code",
   "execution_count": 12,
   "id": "b8476e47-adbf-458c-bcc3-b41a1ac46a48",
   "metadata": {},
   "outputs": [
    {
     "data": {
      "text/plain": [
       "False"
      ]
     },
     "execution_count": 12,
     "metadata": {},
     "output_type": "execute_result"
    }
   ],
   "source": [
    "## Ques33) Write a Python program to check a list is empty or not?\n",
    "\n",
    "def is_list_empty(input_list):\n",
    "    return (len(input_list) == 0)\n",
    "    if is_list_empty(mylist):\n",
    "        print(\"The list is empty\")\n",
    "    else:\n",
    "        print (\"The list is empty\")\n",
    "is_list_empty([\"okk\"])"
   ]
  },
  {
   "cell_type": "code",
   "execution_count": null,
   "id": "e42632ef-cfef-4983-bfbf-97836268eb33",
   "metadata": {},
   "outputs": [],
   "source": [
    "## Ques38) Write a Python program to select an item randomly from a list?\n",
    "\n",
    "## Ans) Def select_random_item(a)\n",
    "## reture random.choice(a)\n",
    "## items = ['football','basketball','volleyball']\n",
    "## random_item = select_random_item(item)\n",
    "## print (\"Randomly selected item :\" ,ramdom_item)"
   ]
  },
  {
   "cell_type": "code",
   "execution_count": null,
   "id": "84315137-4a72-42dd-beb8-f255b504c944",
   "metadata": {},
   "outputs": [],
   "source": [
    "## Ques40) Write a Python program to get unique values from a list?\n",
    "\n",
    "## Ans) def get_unique_values (input_list)\n",
    "##  Unique_value = set (input_list)\n",
    "##  return list (unique_value)\n",
    "## my_list = [1,2,3,4,4,5,1,2]\n",
    "## unique_list = get_unique_value( my_list)\n",
    "## print (\" unique value:\" , unique_list)"
   ]
  },
  {
   "cell_type": "code",
   "execution_count": null,
   "id": "ea9dee82-c2c6-4390-9814-0b2a85078709",
   "metadata": {},
   "outputs": [],
   "source": [
    "## Ques41) Write a Python program to check whether a list contains a sub list?\n",
    "\n",
    "## Ans) The function contain sub list take two list main list and sub list.\n",
    "## It calculate the lenght of the sub list .\n",
    "## It iterates through the main list cheeking slices of main_list match the leghth.\n",
    "## If a match is found it return true.If no match are found after checking all possible slices ,it return false."
   ]
  },
  {
   "cell_type": "code",
   "execution_count": null,
   "id": "618147f5-4c02-4b72-a611-8501598a1ae8",
   "metadata": {},
   "outputs": [],
   "source": [
    "## Ques42) Write a Python program to split a list into different variables?\n",
    "\n",
    "## The function spilt_list take a list as input .\n",
    "## It checks if the list has at least three element to unpack.\n",
    "## It unpack the frist three element of the list into seperate variable :var1, var2 and var3.\n",
    "## The function return these variable."
   ]
  },
  {
   "cell_type": "code",
   "execution_count": null,
   "id": "d198ca62-2e76-48d3-b878-4bd7f841cc77",
   "metadata": {},
   "outputs": [],
   "source": [
    "## Ques43) What is tuple? Difference between list and tuple?\n",
    "\n",
    "## Ans) A tuple is a finite, ordered list of elements that be used in various field including mathematics ,computer programming,\n",
    "##  and relational data model.\n",
    "\n",
    "##  The diference between list and tuple :-\n",
    "## list :- mutable ( can be changed after creation).\n",
    "## tuple :- Immutable ( cannot be changed after creation).\n",
    "\n",
    "##  Syntax for list and tuple:-\n",
    "## my_list = [1,2,3]\n",
    "## my_tuple =[1,2,3]\n",
    "\n",
    "## Use case for list and tuple:-\n",
    "\n",
    "## List:- Used when you need a collection of item that may need to change such as storing item in a shopping cart.\n",
    "## Tuple:- Used for fixed collection of items such as coordinates or database records.\n",
    "\n",
    "## Methods use for list and Tuple :- \n",
    "\n",
    "## List has many built in method for eg :- append(), remove(), sort().\n",
    "## Tuple are limited method for use for eg :- count().\n",
    "\n",
    "## List example\n",
    "## my_list=[1,2,3]\n",
    "## my_list.append(4)\n",
    "## print(my_list) \n",
    "\n",
    "## Tuple example\n",
    "## my_tuple =(1,2,3)\n",
    "## my_tuple.append(4)\n",
    "## print(my_tuple)"
   ]
  },
  {
   "cell_type": "code",
   "execution_count": null,
   "id": "b44d91fe-a65c-4242-a02b-ed6f90608190",
   "metadata": {},
   "outputs": [],
   "source": [
    "## Ques44) Write a Python program to create a tuple with different data types?\n",
    "\n",
    "## Ans) The tuple my_tuple contain an interger, a float , a boolan ,and a none value. \n",
    "## The program prints the tupe and the then iterates throughits element to print the data type of each one .\n",
    "## creating a tuple with different data types.\n",
    "##  my_tuple =( 42, \" hello , world !\"), 3.14, true, none)\n",
    "\n",
    "## Printing the tuple.\n",
    "## print(\" tuple with differnt data types:\").\n",
    "## print(my_tuple).\n"
   ]
  },
  {
   "cell_type": "code",
   "execution_count": null,
   "id": "8bea27c4-9db1-474b-afe4-477f6b81ff69",
   "metadata": {},
   "outputs": [],
   "source": [
    "## Ques45) Write a Python program to unzip a list of tuples into individual lists?\n",
    "\n",
    "## Ans) The tuple_list contain tuple with integers and strings .\n",
    "## zip (tuple_list) effectively unzips the tuple.\n",
    "## map (list,unzipped) converts the zipped obeject back into individual lists.\n",
    "## Finally program prints the original list of tuple and the resulting lists.\n"
   ]
  },
  {
   "cell_type": "code",
   "execution_count": null,
   "id": "bf91c06d-0d43-42d2-bc6d-af972a3d88b3",
   "metadata": {},
   "outputs": [],
   "source": [
    "## Ques46) Write a Python program to convert a list of tuples into a dictionary?\n",
    "\n",
    "## Ans) Sample list of tuple \n",
    "## tuple_list = [('a',1),('b',2),('c',3)]\n",
    "## convert to dictionary. \n",
    "## result_deit = { key value for key,value in tuple_list}\n",
    "## print the result \n",
    "## print (result_diet)."
   ]
  },
  {
   "cell_type": "code",
   "execution_count": null,
   "id": "9296a984-2136-4987-8210-07582c3a85e8",
   "metadata": {},
   "outputs": [],
   "source": [
    "## Ques47) How will you create a dictionary using tuples in python?\n",
    "\n",
    "## Ans) To create a dictornary using tuple in python you can use tuples as key in the dictonary.\n",
    "## tuples can only be used as keys if they contain only strings , number or tuples.\n",
    "## Tuples are immutable ,meaning they cannot be changed once they are created.\n",
    "## List cannot be used as keys because they can be modified in place."
   ]
  },
  {
   "cell_type": "code",
   "execution_count": null,
   "id": "c5987959-e9bb-4e62-babc-ab006ad91eeb",
   "metadata": {},
   "outputs": [],
   "source": [
    "## Ques50) Write a Python script to check if a given key already exists in a dictionary?\n",
    "\n",
    "## Ans) Python dictionary can not contain duplicate key so it very crucial to check if a key is already present in the \n",
    "##  dictionary . If you accidentally assin a dupicate key value , the new value will overwrite the old one .\n",
    "## Example dictionary \n",
    "## d={'a':1,'b':2,'c':3}\n",
    "## key to check \n",
    "## key ='b'\n",
    "## print (key in d) \n",
    "## key = 'g'\n",
    "## print (key in a)      ## output: false "
   ]
  },
  {
   "cell_type": "code",
   "execution_count": null,
   "id": "6ddeaad1-21b3-478e-90c4-4a6736cae26a",
   "metadata": {},
   "outputs": [],
   "source": [
    "## Ques52) How Do You Check the Presence of a Key in A Dictionary?\n",
    "\n",
    "## Ans) To check if a key exit in a dictionary you can use the in operator the get() method , or the key() method in python.\n"
   ]
  },
  {
   "cell_type": "code",
   "execution_count": null,
   "id": "d2caf7f7-afd9-4938-9719-e25675a22770",
   "metadata": {},
   "outputs": [],
   "source": [
    "## Ques53) Write a Python script to print a dictionary where the keys are numbers between 1 and 15?\n",
    "\n",
    "## Ans ) Crete a dictionary with key as number from 1 to 15.\n",
    "## My_dict ={num :num*2 for num in range (1,16)}\n",
    "## Ex: value is the square of the key.\n",
    "## print the dictinoary \n",
    "## print (my_dict)"
   ]
  },
  {
   "cell_type": "code",
   "execution_count": null,
   "id": "50a00f27-79fc-4ed6-9ea7-02e5810d7b31",
   "metadata": {},
   "outputs": [],
   "source": [
    "## Ques54) Write a Python program to check multiple keys exists in a dictionary?\n",
    "\n",
    "## Ans) Sample dictionary\n",
    "## My_dict ={ 'ashish' :1 ,'neha':2 ,'sumit': 3}\n",
    "## List of keys to check \n",
    "## key_to_check = ['neha':2 , 'sumit':3]\n",
    "## check if all keys exits in the dictionary \n",
    "## all_key_exit = (key in my_dict for key in key_to_check)\n",
    "## print the result \n",
    "## if all_key_exist:\n",
    "## print (\" All key exit in the dictionary \")\n",
    "## else\n",
    "## print (\" not all key exist in the dictionary\")\n"
   ]
  },
  {
   "cell_type": "code",
   "execution_count": 21,
   "id": "ef587751-37d0-4719-b7b3-5741ff773aed",
   "metadata": {},
   "outputs": [
    {
     "name": "stdin",
     "output_type": "stream",
     "text": [
      "Enter a string  tops tech\n"
     ]
    },
    {
     "name": "stdout",
     "output_type": "stream",
     "text": [
      "['tops', 'tech']\n",
      "x: to\n",
      "ch\n"
     ]
    },
    {
     "data": {
      "text/plain": [
       "'tops techto'"
      ]
     },
     "execution_count": 21,
     "metadata": {},
     "output_type": "execute_result"
    }
   ],
   "source": [
    "## Ques20) Write a Python program to get a single string from two given strings,separated by a space and swap the first two \n",
    "## characters of each string?\n",
    "\n",
    "## Ans) srtt = input(\"Enter a string \")\n",
    "#subb = input(\"Enter a subb string \")\n",
    "print(srtt.split(\" \"))\n",
    "x = srtt[:2]\n",
    "print(\"x:\",x)\n",
    "e = srtt[-2:]\n",
    "print(e)\n",
    "srtt = srtt+x\n",
    "srtt"
   ]
  },
  {
   "cell_type": "code",
   "execution_count": null,
   "id": "c2a9cd7b-a58c-4930-9430-ba5ed0ae3ce3",
   "metadata": {},
   "outputs": [],
   "source": [
    "## Ques55) Write a Python script to merge two Python dictionaries?\n",
    "\n",
    "## Ans) Python code to merge dict using update() method\n",
    "## Driver code \n",
    "## d1 ={'a':10, 'b':8}\n",
    "## d2 = {'d':6 ,'c': 4}\n",
    "## d2 update d1\n",
    "## this return none \n",
    "## print (d2)\n"
   ]
  },
  {
   "cell_type": "code",
   "execution_count": null,
   "id": "bf67b5e6-1ef1-437b-a5db-68b94ff3e70c",
   "metadata": {},
   "outputs": [],
   "source": [
    "## Ques56) Write a Python program to map two lists into a dictionary\n",
    "##         Sample output: Counter ({'a': 400, 'b': 400,’d’: 400, 'c': 300}).\n",
    "\n",
    "## Ans) keys =[ 'a'.'b','c','d' ]\n",
    "## Value = [ 400,400,300,400]\n",
    "## result_dict = dict(zip(key,value))\n",
    "## print (\"counter ({}) \". format (result_dict))"
   ]
  },
  {
   "cell_type": "code",
   "execution_count": 22,
   "id": "fd5f4cc7-45e7-40e8-a66a-fff09addcd84",
   "metadata": {},
   "outputs": [
    {
     "ename": "IndentationError",
     "evalue": "unexpected indent (3027554954.py, line 5)",
     "output_type": "error",
     "traceback": [
      "\u001b[1;36m  Cell \u001b[1;32mIn[22], line 5\u001b[1;36m\u001b[0m\n\u001b[1;33m    'a':4,\u001b[0m\n\u001b[1;37m    ^\u001b[0m\n\u001b[1;31mIndentationError\u001b[0m\u001b[1;31m:\u001b[0m unexpected indent\n"
     ]
    }
   ],
   "source": [
    "## Ques57) Write a Python program to find the highest 3 values in a dictionary?\n",
    "\n",
    "## Ans) Define the dictionary\n",
    "## Data ={\n",
    "          'a':4,\n",
    "          'b':1,\n",
    "          'c':3,\n",
    "          'd':5,\n",
    "          'e':2,\n",
    "}\n",
    "## find the highest three value \n",
    "## highest_values = sorted (data.value(), reverse=ture)[:3]\n",
    "## print the result\n",
    "## print (\"the highest 3 value are :\"highest_value)"
   ]
  },
  {
   "cell_type": "code",
   "execution_count": 1,
   "id": "5f2bd408-3807-48ee-b33a-8fca8bc3ed7d",
   "metadata": {},
   "outputs": [],
   "source": [
    "## Ques58) Write a Python program to combine values in python list of dictionaries.\n",
    "##         Sample data: [{'item': 'item1', 'amount': 400}, {'item': 'item2', 'amount':300}, o {'item': 'item1', 'amount': 750}]\n",
    "##         Expected Output:\n",
    "##         • Counter ({'item1': 1150, 'item2': 300})\n",
    "\n",
    "## Ans) Sample data\n",
    "##      data[\n",
    "##          {\"item': 'item1', 'amount': 400},\n",
    "##          {'item': 'item2', 'amount': 300},\n",
    "##          {'item': 'item3', 'amount':750}\n",
    "##          ]\n",
    "##   combine value using counter counter= counter()\n",
    "##   for enter in data :\n",
    "##     country [entey[ 'item'] ] = entry['amount']\n",
    "##   print the result in the desiged format\n",
    "##   print(\" counter\" ({})\". format (counter)).\n",
    "         "
   ]
  },
  {
   "cell_type": "code",
   "execution_count": null,
   "id": "2e20434c-e3c6-4627-be92-5784fb101ab9",
   "metadata": {},
   "outputs": [],
   "source": [
    "## Ques59) Write a Python program to create a dictionary from a string.\n",
    "##         Note: Track the count of the letters from the string.\n",
    "\n",
    "## Ans59) def count_letters(input_string):\n",
    "    letter_count = {}\n",
    "    for char in input_string:\n",
    "        if char.isalpha():\n",
    "            char = char.lower()  \n",
    "            if char in letter_count:\n",
    "                letter_count[char] += 1\n",
    "            else:\n",
    "                letter_count[char] = 1\n",
    "    return letter_count\n",
    "input_string = \"Hello World\"\n",
    "letter_count = count_letters(input_string)\n",
    "\n",
    "print(\"Letter count dictionary:\", letter_count)\n"
   ]
  },
  {
   "cell_type": "code",
   "execution_count": 4,
   "id": "75b24cab-60c8-4070-b1c6-ca9cbd1fd1d3",
   "metadata": {},
   "outputs": [
    {
     "ename": "IndentationError",
     "evalue": "unexpected indent (114156449.py, line 6)",
     "output_type": "error",
     "traceback": [
      "\u001b[1;36m  Cell \u001b[1;32mIn[4], line 6\u001b[1;36m\u001b[0m\n\u001b[1;33m    char_count = {}\u001b[0m\n\u001b[1;37m    ^\u001b[0m\n\u001b[1;31mIndentationError\u001b[0m\u001b[1;31m:\u001b[0m unexpected indent\n"
     ]
    }
   ],
   "source": [
    "## Ques60) Sample string:\n",
    "##         'w3resource' Expected output:\n",
    "##       • {'3': 1,’s’: 1, 'r': 2, 'u': 1, 'w': 1, 'c': 1, 'e': 2, 'o': 1} ?\n",
    "\n",
    "## Ans60) def count_characters(input_string):\n",
    "    char_count = {}\n",
    "    \n",
    "    # Loop through each character in the string\n",
    "    for char in input_string:\n",
    "        if char in char_count:\n",
    "            char_count[char] += 1\n",
    "        else:\n",
    "            char_count[char] = 1\n",
    "    \n",
    "    return char_count\n"
   ]
  },
  {
   "cell_type": "code",
   "execution_count": null,
   "id": "ebb871fd-d6d1-4e96-8c56-c82eb7e8de4d",
   "metadata": {},
   "outputs": [],
   "source": [
    "## Ques70) How will you randomize the items of a list in place?\n",
    "\n",
    "## Ans70) import random\n",
    "\n",
    "# Example list\n",
    "my_list = [1, 2, 3, 4, 5]\n",
    "\n",
    "# Shuffle the list in place\n",
    "random.shuffle(my_list)\n",
    "\n",
    "# Print the shuffled list\n",
    "print(\"Shuffled list:\", my_list)\n"
   ]
  },
  {
   "cell_type": "code",
   "execution_count": null,
   "id": "1d9bb94a-e0b8-444f-87a5-f83d3cb3ba1a",
   "metadata": {},
   "outputs": [],
   "source": [
    "## Ques73) Write a Python program to append text to a file and display the text?\n",
    "\n",
    "## Ans73) def append_and_display_text(filename, text_to_append):\n",
    "##    # Append the text to the file\n",
    "    with open(filename, 'a') as file:\n",
    "        file.write(text_to_append + \"\\n\")  # Append the text with a newline\n",
    "    \n",
    "    # Display the contents of the file\n",
    "    with open(filename, 'r') as file:\n",
    "        file_contents = file.read()\n",
    "        print(\"File contents after appending:\")\n",
    "        print(file_contents)\n",
    "\n",
    "# Example usage\n",
    "filename = \"example.txt\"\n",
    "text_to_append = \"This is the new text to append.\"\n",
    "\n",
    "append_and_display_text(filename, text_to_append)\n"
   ]
  },
  {
   "cell_type": "code",
   "execution_count": null,
   "id": "899b8e03-2b9e-4f28-aa5f-4ef3047a354b",
   "metadata": {},
   "outputs": [],
   "source": [
    "## Ques75) Write a Python program to read last n lines of a file?\n",
    "\n",
    "## Ans75) from collections import deque\n",
    "\n",
    "def read_last_n_lines(file_path, n):\n",
    "    \"\"\"\n",
    "    Read the last n lines of a file.\n",
    "    \n",
    "    :param file_path: Path to the file\n",
    "    :param n: Number of lines to read from the end\n",
    "    :return: List of the last n lines\n",
    "    \"\"\"\n",
    "    try:\n",
    "        with open(file_path, 'r') as file:\n",
    "            # Use deque to fetch the last n lines efficiently\n",
    "            last_lines = deque(file, maxlen=n)\n",
    "            return list(last_lines)\n",
    "    except FileNotFoundError:\n",
    "        print(f\"Error: The file '{file_path}' was not found.\")\n",
    "    except Exception as e:\n",
    "        print(f\"An error occurred: {e}\")\n",
    "\n",
    "# Example usage\n",
    "if __name__ == \"__main__\":\n",
    "    file_path = \"example.txt\"  # Replace with your file path\n",
    "    n = 5  # Number of lines to read\n",
    "    last_lines = read_last_n_lines(file_path, n)\n",
    "    \n",
    "    if last_lines:\n",
    "        print(\"Last lines of the file:\")\n",
    "        for line in last_lines:\n",
    "            print(line, end='')\n",
    "\n"
   ]
  },
  {
   "cell_type": "code",
   "execution_count": 5,
   "id": "115e2de5-d1c6-42f3-8c55-55a38d143369",
   "metadata": {},
   "outputs": [],
   "source": [
    "## Ques77) Write a Python program to read a file line by line store it into a variable?\n",
    "\n",
    "## Ans77) def read_file_into_variable(file_path):\n",
    "    try:\n",
    "        with open(file_path, 'r') as file:\n",
    "            # Read all lines into a list\n",
    "            lines = file.readlines()\n",
    "        return lines\n",
    "    except FileNotFoundError:\n",
    "        print(f\"Error: The file '{file_path}' was not found.\")\n",
    "    except Exception as e:\n",
    "        print(f\"An error occurred: {e}\")\n",
    "        return None\n",
    "\n"
   ]
  },
  {
   "cell_type": "code",
   "execution_count": null,
   "id": "064d52f8-5a51-4e65-8fdb-4978d192f349",
   "metadata": {},
   "outputs": [],
   "source": [
    "## Ques79) Write a Python program to count the number of lines in a text file?\n",
    "\n",
    "## Ans79) def count_lines_in_file(file_path):\n",
    "    try:\n",
    "        with open(file_path, 'r') as file:\n",
    "            line_count = sum(1 for line in file)\n",
    "        return line_count\n",
    "    except FileNotFoundError:\n",
    "        print(f\"Error: The file '{file_path}' was not found.\")\n",
    "        return 0\n",
    "    except Exception as e:\n",
    "        print(f\"An error occurred: {e}\")\n",
    "        return 0\n"
   ]
  },
  {
   "cell_type": "code",
   "execution_count": null,
   "id": "954a75b1-3ae8-4794-b674-66d000657b2e",
   "metadata": {},
   "outputs": [],
   "source": [
    "## Ques80) Write a Python program to count the frequency of words in a file?\n",
    "\n",
    "## Ans80) from collections import Counter\n",
    "import re\n",
    "\n",
    "def count_word_frequency(file_path):\n",
    "    try:\n",
    "        with open(file_path, 'r') as file:\n",
    "            # Read the file content\n",
    "            text = file.read()\n",
    "            # Use regular expression to split text into words, ignoring punctuation\n",
    "            words = re.findall(r'\\b\\w+\\b', text.lower())\n",
    "            # Count the frequency of each word\n",
    "            word_counts = Counter(words)\n",
    "        return word_counts\n",
    "    except FileNotFoundError:\n",
    "        print(f\"Error: The file '{file_path}' was not found.\")\n",
    "        return\n"
   ]
  },
  {
   "cell_type": "code",
   "execution_count": null,
   "id": "3319bbc0-9eee-41f1-b5bd-2ab5b609c5b8",
   "metadata": {},
   "outputs": [],
   "source": [
    "## Ques81) Write a Python program to write a list to a file?\n",
    "\n",
    "## Ans81) def write_list_to_file(file_path, data_list):\n",
    "\n",
    "    try:\n",
    "        with open(file_path, 'w') as file:\n",
    "            for item in data_list:\n",
    "                file.write(f\"{item}\\n\")\n",
    "        print(f\"List successfully written to '{file_path}'.\")\n",
    "    except Exception as e:\n",
    "        print(f\"An error occurred: {e}\")\n"
   ]
  },
  {
   "cell_type": "code",
   "execution_count": null,
   "id": "f015eca7-a839-423f-9a05-ef1942e12935",
   "metadata": {},
   "outputs": [],
   "source": [
    "## Ques82) Write a Python program to copy the contents of a file to another file?\n",
    "\n",
    "## Ans82) def copy_file(source_file, destination_file):\n",
    "    try:\n",
    "        with open(source_file, 'r') as src, open(destination_file, 'w') as dest:\n",
    "            for line in src:\n",
    "                dest.write(line)\n",
    "        print(f\"Contents of '{source_file}' have been copied to '{destination_file}'.\")\n",
    "    except FileNotFoundError:\n",
    "        print(f\"Error: The file '{source_file}' was not found.\")\n",
    "    except Exception as e:\n",
    "        print(f\"An error occurred: {e}\")\n"
   ]
  },
  {
   "cell_type": "code",
   "execution_count": null,
   "id": "aba189be-57df-4997-8740-e9807d6748eb",
   "metadata": {},
   "outputs": [],
   "source": [
    "## Ques83) Explain Exception handling? What is an Error in Python?\n",
    "\n",
    "## Ans83) try:\n",
    "    # Code that may raise an exception\n",
    "    risky_operation()\n",
    "except ExceptionType as e:\n",
    "    # Code to handle the exception\n",
    "    print(f\"An error occurred: {e}\")\n",
    "else:\n",
    "    # Code to execute if no exception occurs\n",
    "    print(\"Operation successful.\")\n",
    "finally:\n",
    "    # Code to execute regardless of an exception\n",
    "    print(\"Execution complete.\")\n",
    "\n"
   ]
  },
  {
   "cell_type": "code",
   "execution_count": null,
   "id": "24490e5c-3e15-4bca-a4b1-6044ce419ab9",
   "metadata": {},
   "outputs": [],
   "source": [
    "## Ques84) How many except statements can a try-except block have? Name Some built-in exception classes?\n",
    "\n",
    "## Ans84) try:\n",
    "    num = int(input(\"Enter a number: \"))\n",
    "    result = 10 / num\n",
    "    print(f\"Result: {result}\")\n",
    "except ZeroDivisionError:\n",
    "    print(\"Error: Division by zero is not allowed.\")\n",
    "except ValueError:\n",
    "    print(\"Error: Invalid input. Please enter a valid number.\")\n",
    "except Exception as e:  # Catch-all for any other exceptions\n",
    "    print(f\"An unexpected error occurred: {e}\")\n"
   ]
  },
  {
   "cell_type": "code",
   "execution_count": null,
   "id": "dee93e66-48c3-4a1e-9b78-ed641471fd1b",
   "metadata": {},
   "outputs": [],
   "source": [
    "## Ques85) When will the else part of try-except-else be executed?\n",
    "\n",
    "## Ans85) try:\n",
    "    # Code that may raise an exception\n",
    "    risky_operation()\n",
    "except SomeException:\n",
    "    # Code to handle the exception\n",
    "    print(\"An exception occurred!\")\n",
    "else:\n",
    "    # Code to execute if no exception occurred in the try block\n",
    "    print(\"No exceptions occurred.\")\n"
   ]
  },
  {
   "cell_type": "code",
   "execution_count": null,
   "id": "e2e5aef9-5273-40f2-a78e-517a46ed5c8e",
   "metadata": {},
   "outputs": [],
   "source": [
    "## Ques86) Can one block of except statements handle multiple exception?\n",
    "\n",
    "## Ans) try:\n",
    "    # Code that may raise an exception\n",
    "    risky_operation()\n",
    "except (ExceptionType1, ExceptionType2) as e:\n",
    "    # Handle multiple exceptions\n",
    "    print(f\"An error occurred: {e}\")\n"
   ]
  },
  {
   "cell_type": "code",
   "execution_count": null,
   "id": "fe04c615-4040-4dad-98f3-55561a7c3a14",
   "metadata": {},
   "outputs": [],
   "source": [
    "## Que87) When is the finally block executed?\n",
    "\n",
    "## Ans) try:\n",
    "    # Code that may raise an exception\n",
    "    risky_operation()\n",
    "except SomeException:\n",
    "    # Handling specific exception\n",
    "    print(\"An error occurred.\")\n",
    "else:\n",
    "    # Code to execute if no exception occurred\n",
    "    print(\"Operation successful.\")\n",
    "finally:\n",
    "    # Code to execute regardless of exception occurrence\n",
    "    print(\"This will always execute.\")\n"
   ]
  },
  {
   "cell_type": "code",
   "execution_count": null,
   "id": "d3e16f7a-768e-4ca7-b1cc-72bbafc2c221",
   "metadata": {},
   "outputs": [],
   "source": [
    "## Ques88) What happens when „1‟== 1 is executed?\n",
    "\n",
    "## Ans) result = \"1\" == 1\n",
    "##      print(result)\n"
   ]
  },
  {
   "cell_type": "code",
   "execution_count": null,
   "id": "c7b68fc9-0d3b-4a20-80db-feeefbc3530b",
   "metadata": {},
   "outputs": [],
   "source": [
    "## Ques89) How Do You Handle Exceptions with Try/Except/Finally in Python?\n",
    "##         Explain with coding snippets.\n",
    "\n",
    "## Ans) try:\n",
    "    num = int(input(\"Enter a number: \"))\n",
    "    result = 10 / num\n",
    "    print(f\"Result: {result}\")\n",
    "except ZeroDivisionError:\n",
    "    print(\"Error: Division by zero is not allowed.\")\n",
    "except ValueError:\n",
    "    print(\"Error: Invalid input. Please enter a valid number.\")\n"
   ]
  },
  {
   "cell_type": "code",
   "execution_count": null,
   "id": "5bcbd57d-b481-487a-8b07-9b1733de3046",
   "metadata": {},
   "outputs": [],
   "source": [
    "## Ques90) Write python program that user to enter only odd numbers, else will raise an exception?\n",
    "\n",
    "## Ans) try:\n",
    "    num = int(input(\"Enter a number: \"))\n",
    "    result = 10 / num\n",
    "    print(f\"Result: {result}\")\n",
    "except ZeroDivisionError:\n",
    "    print(\"Error: Division by zero is not allowed.\")\n",
    "except ValueError:\n",
    "    print(\"Error: Invalid input. Please enter a valid number.\")\n"
   ]
  },
  {
   "cell_type": "code",
   "execution_count": null,
   "id": "2bf1aa04-c8d7-4003-b94f-468d8721ed41",
   "metadata": {},
   "outputs": [],
   "source": []
  },
  {
   "cell_type": "code",
   "execution_count": null,
   "id": "5c467464-0968-42af-8977-22e398e9a93f",
   "metadata": {},
   "outputs": [],
   "source": []
  },
  {
   "cell_type": "code",
   "execution_count": null,
   "id": "45b7586e-bfd1-47ee-ad5a-eb7ed274226a",
   "metadata": {},
   "outputs": [],
   "source": []
  },
  {
   "cell_type": "code",
   "execution_count": null,
   "id": "74f3d4b8-2ad1-4354-9cba-f662c1bd8571",
   "metadata": {},
   "outputs": [],
   "source": []
  },
  {
   "cell_type": "code",
   "execution_count": null,
   "id": "2851a0f9-921d-4229-9259-9052c385e946",
   "metadata": {},
   "outputs": [],
   "source": []
  },
  {
   "cell_type": "code",
   "execution_count": null,
   "id": "4d1e8b28-7c66-499c-816b-6c5ebbd497c5",
   "metadata": {},
   "outputs": [],
   "source": []
  }
 ],
 "metadata": {
  "kernelspec": {
   "display_name": "Python 3 (ipykernel)",
   "language": "python",
   "name": "python3"
  },
  "language_info": {
   "codemirror_mode": {
    "name": "ipython",
    "version": 3
   },
   "file_extension": ".py",
   "mimetype": "text/x-python",
   "name": "python",
   "nbconvert_exporter": "python",
   "pygments_lexer": "ipython3",
   "version": "3.12.4"
  }
 },
 "nbformat": 4,
 "nbformat_minor": 5
}
