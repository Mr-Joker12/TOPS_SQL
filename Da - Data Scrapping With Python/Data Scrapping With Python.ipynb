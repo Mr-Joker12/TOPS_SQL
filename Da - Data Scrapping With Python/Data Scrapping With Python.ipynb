{
 "cells": [
  {
   "cell_type": "code",
   "execution_count": 2,
   "id": "b6ddac5c-6253-4bf0-a041-c7a71d185a33",
   "metadata": {},
   "outputs": [
    {
     "name": "stdout",
     "output_type": "stream",
     "text": [
      "Title of the page: Example Domain\n",
      "Link: https://www.iana.org/domains/example\n",
      "Paragraph: This domain is for use in illustrative examples in documents. You may use this\n",
      "    domain in literature without prior coordination or asking for permission.\n",
      "Paragraph: More information...\n"
     ]
    }
   ],
   "source": [
    "Ques1) Ques1) To define a Python script that fetches the web page contents and parses it using Beautiful Soup to generate a soup object.\n",
    "      You can use different selectors with the soup object to find elements on the web page and extract the desired information from it ?\n",
    "\n",
    "import requests\n",
    "from bs4 import BeautifulSoup\n",
    "\n",
    "# Define the URL you want to scrape\n",
    "url = 'https://example.com'\n",
    "\n",
    "# Step 1: Fetch the webpage contents using requests\n",
    "response = requests.get(url)\n",
    "\n",
    "# Check if the request was successful\n",
    "if response.status_code == 200:\n",
    "    # Step 2: Parse the page content with BeautifulSoup\n",
    "    soup = BeautifulSoup(response.content, 'html.parser')\n",
    "\n",
    "    # Step 3: Use different selectors to find elements\n",
    "    # Example 1: Find the title of the page\n",
    "    title = soup.title.string\n",
    "    print(f'Title of the page: {title}')\n",
    "\n",
    "    # Example 2: Find all links on the page\n",
    "    links = soup.find_all('a')\n",
    "    for link in links:\n",
    "        print(f'Link: {link.get(\"href\")}')\n",
    "\n",
    "    # Example 3: Find specific element by class name\n",
    "    element = soup.find('div', class_='specific-class')\n",
    "    if element:\n",
    "        print(f'Element with class \"specific-class\": {element.text.strip()}')\n",
    "\n",
    "    # Example 4: Find specific element by id\n",
    "    element_by_id = soup.find(id='specific-id')\n",
    "    if element_by_id:\n",
    "        print(f'Element with id \"specific-id\": {element_by_id.text.strip()}')\n",
    "\n",
    "    # Example 5: Extract all paragraphs on the page\n",
    "    paragraphs = soup.find_all('p')\n",
    "    for p in paragraphs:\n",
    "        print(f'Paragraph: {p.text.strip()}')\n",
    "\n",
    "else:\n",
    "    print(f\"Failed to retrieve the webpage. Status code: {response.status_code}\")\n"
   ]
  }
 ],
 "metadata": {
  "kernelspec": {
   "display_name": "Python 3 (ipykernel)",
   "language": "python",
   "name": "python3"
  },
  "language_info": {
   "codemirror_mode": {
    "name": "ipython",
    "version": 3
   },
   "file_extension": ".py",
   "mimetype": "text/x-python",
   "name": "python",
   "nbconvert_exporter": "python",
   "pygments_lexer": "ipython3",
   "version": "3.12.4"
  }
 },
 "nbformat": 4,
 "nbformat_minor": 5
}
