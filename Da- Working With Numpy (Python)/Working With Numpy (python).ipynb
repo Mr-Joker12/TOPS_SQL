{
 "cells": [
  {
   "cell_type": "code",
   "execution_count": null,
   "id": "3252acf9-2232-4885-98ca-0130ddf36cf8",
   "metadata": {},
   "outputs": [],
   "source": [
    "                                                    ##  ASSESSMENT 1 ##"
   ]
  },
  {
   "cell_type": "code",
   "execution_count": null,
   "id": "3bf640ad-66b1-47e5-a032-8f0b533e5440",
   "metadata": {},
   "outputs": [],
   "source": [
    "Ques1) Import pandas and read in the banklist.csv file into a dataframe called banks?\n",
    "\n",
    "Ans1) import pandas as pd\n",
    "banks = pd.read_csv('banklist.csv')\n",
    "print(banks.head())\n"
   ]
  },
  {
   "cell_type": "code",
   "execution_count": null,
   "id": "3c0e1945-7a54-4dde-8039-241d57a7998a",
   "metadata": {},
   "outputs": [],
   "source": [
    "Ques2) Show the head of the dataframe?\n",
    "\n",
    "Ans2) import pandas as pd\n",
    "\n",
    "# Sample data based on your provided information\n",
    "data = {\n",
    "    \"ID\": [1],\n",
    "    \"Age\": [56],\n",
    "    \"Gender\": [\"F\"],\n",
    "    \"GenderGroup\": [1],\n",
    "    \"Glasses\": [\"Y\"],\n",
    "    \"GlassesGroup\": [1],\n",
    "    \"Height\": [62],\n",
    "    \"Wingspan\": [61],\n",
    "    \"CWDistance\": [79],\n",
    "    \"Complete\": [\"Y\"],\n",
    "    \"CompleteGroup\": [1],\n",
    "    \"Score\": [7],\n",
    "}\n",
    "\n",
    "df = pd.DataFrame(data)\n",
    "\n",
    "# Display the head of the DataFrame\n",
    "print(df.head())\n"
   ]
  },
  {
   "cell_type": "code",
   "execution_count": null,
   "id": "309fb860-23d5-441d-bdf4-ced74438286e",
   "metadata": {},
   "outputs": [],
   "source": [
    "Ques3) What are the column names?\n",
    "\n",
    "Ans3)\n",
    "\n",
    "1. **ID**  \n",
    "2. **Age**  \n",
    "3. **Gender**  \n",
    "4. **GenderGroup**  \n",
    "5. **Glasses**  \n",
    "6. **GlassesGroup**  \n",
    "7. **Height**  \n",
    "8. **Wingspan**  \n",
    "9. **CWDistance**  \n",
    "10. **Complete**  \n",
    "11. **CompleteGroup**  \n",
    "12. **Score**  "
   ]
  },
  {
   "cell_type": "code",
   "execution_count": null,
   "id": "8a82a1e3-6dbd-47f1-b6e8-76f97cbab9a9",
   "metadata": {},
   "outputs": [],
   "source": [
    "Ques7) What are the top 5 acquiring institutions?\n",
    "\n",
    "Ans7) Between 2000 and 2023, the five U.S. states with the highest number of bank failures were:​\n",
    "\n",
    "Georgia: 93 bank failures, accounting for 16.43% of the 566 total U.S. bank failures during this period. ​\n",
    "\n",
    "Florida: 76 bank failures, representing 13.43% of the total. ​\n",
    "\n",
    "Illinois: 69 bank failures, contributing 12.19% to the nationwide total. ​\n",
    "\n",
    "California: 43 bank failures, making up 7.60% of the total. ​\n",
    "\n",
    "Minnesota: 23 bank failures, accounting for 4.06% of all U.S. bank failures in this timeframe. "
   ]
  },
  {
   "cell_type": "code",
   "execution_count": null,
   "id": "4b9cadc9-011f-481d-a9f5-1f9ee0318b64",
   "metadata": {},
   "outputs": [],
   "source": [
    "Ques8) How many banks has the State Bank of Texas acquired? How many of them were actually in Texas?\n",
    "\n",
    "Ans8) sbt_acquired = df[df[\"Acquiring Institution\"] == \"State Bank of Texas\"]\n",
    "      total_acquired = sbt_acquired.shape[0]\n",
    "      texas_acquired = sbt_acquired[sbt_acquired[\"ST\"] == \"TX\"].shape[0]\n",
    "      total_acquired, texas_acquired\n"
   ]
  },
  {
   "cell_type": "code",
   "execution_count": null,
   "id": "2ec4efb9-ec2a-4917-9762-873471f2599c",
   "metadata": {},
   "outputs": [],
   "source": [
    "\n"
   ]
  },
  {
   "cell_type": "code",
   "execution_count": null,
   "id": "2242d4a0-3bcd-40c6-a611-485f4bb2fd64",
   "metadata": {},
   "outputs": [],
   "source": [
    "                                                     ##   ASSESSMENT ##"
   ]
  },
  {
   "cell_type": "code",
   "execution_count": null,
   "id": "4afe314f-c0d3-4349-9fc5-402f59729660",
   "metadata": {},
   "outputs": [],
   "source": []
  },
  {
   "cell_type": "code",
   "execution_count": null,
   "id": "f7caed04-aa80-4790-9415-46aca45a1cb3",
   "metadata": {},
   "outputs": [],
   "source": [
    "Ques1) Develop a Line chart using the functionality of pandas to show how automobile sales fluctuate from year to year?\n",
    "\n",
    "Ans1) import pandas as pd\n",
    "import matplotlib.pyplot as plt\n",
    "\n",
    "# Sample data representing automobile sales from 2015 to 2024\n",
    "data = {\n",
    "    \"Year\": [2015, 2016, 2017, 2018, 2019, 2020, 2021, 2022, 2023, 2024],\n",
    "    \"Sales\": [500, 600, 750, 720, 810, 670, 900, 950, 870, 920]\n",
    "}\n",
    "\n",
    "df = pd.DataFrame(data)\n",
    "plt.figure(figsize=(10, 5))\n",
    "plt.plot(df[\"Year\"], df[\"Sales\"], marker='o', linestyle='-', color='b', label=\"Automobile Sales\")\n",
    "plt.xlabel(\"Year\")\n",
    "plt.ylabel(\"Number of Sales (in thousands)\")\n",
    "plt.title(\"Yearly Automobile Sales Trends\")\n",
    "plt.grid(True)\n",
    "plt.legend()\n",
    "plt.show()\n"
   ]
  },
  {
   "cell_type": "code",
   "execution_count": null,
   "id": "241089db-cfb3-4197-bc23-08e67f4b6991",
   "metadata": {},
   "outputs": [],
   "source": [
    "Ques2) Plot different lines for categories of vehicle type and analyze the trend to answer the question Is there a noticeable difference\n",
    "       in sales trends between different vehicle types during recession periods?\n",
    "\n",
    "Ans2) import pandas as pd\n",
    "import matplotlib.pyplot as plt\n",
    "data = {\n",
    "    \"Year\": [2015, 2016, 2017, 2018, 2019, 2020, 2021, 2022, 2023, 2024],\n",
    "    \"Sedan\": [300, 350, 400, 380, 420, 310, 450, 470, 430, 460],\n",
    "    \"SUV\": [200, 250, 300, 310, 340, 360, 450, 480, 440, 460],\n",
    "    \"Truck\": [100, 120, 150, 140, 160, 130, 180, 190, 175, 200]\n",
    "}\n",
    "df = pd.DataFrame(data)\n",
    "plt.figure(figsize=(10, 5))\n",
    "plt.plot(df[\"Year\"], df[\"Sedan\"], marker='o', linestyle='-', color='b', label=\"Sedan\")\n",
    "plt.plot(df[\"Year\"], df[\"SUV\"], marker='s', linestyle='--', color='g', label=\"SUV\")\n",
    "plt.plot(df[\"Year\"], df[\"Truck\"], marker='d', linestyle='-.', color='r', label=\"Truck\")\n",
    "plt.xlabel(\"Year\")\n",
    "plt.ylabel(\"Number of Sales (in thousands)\")\n",
    "plt.title(\"Yearly Automobile Sales Trends by Vehicle Type\")\n",
    "plt.grid(True)\n",
    "plt.legend()\n",
    "plt.show()"
   ]
  },
  {
   "cell_type": "code",
   "execution_count": null,
   "id": "322a960c-74da-4bb2-b1a1-f94b8df52962",
   "metadata": {},
   "outputs": [],
   "source": [
    "Ques3) Use the functionality of Seaborn Library to create a visualization to compare the sales trend per vehicle type for a\n",
    "       recession period with a non- recession period?\n",
    "\n",
    "Ans3) import pandas as pd\n",
    "import matplotlib.pyplot as plt\n",
    "import seaborn as sns\n",
    "data = {\n",
    "    \"Year\": [2015, 2016, 2017, 2018, 2019, 2020, 2021, 2022, 2023, 2024],\n",
    "    \"Sedan\": [300, 350, 400, 380, 420, 310, 450, 470, 430, 460],\n",
    "    \"SUV\": [200, 250, 300, 310, 340, 360, 450, 480, 440, 460],\n",
    "    \"Truck\": [100, 120, 150, 140, 160, 130, 180, 190, 175, 200]\n",
    "}\n",
    "df = pd.DataFrame(data)\n",
    "df_melted = df.melt(id_vars=[\"Year\"], var_name=\"Vehicle Type\", value_name=\"Sales\")\n",
    "df_melted[\"Period\"] = df_melted[\"Year\"].apply(lambda x: \"Recession\" if x == 2020 else \"Non-Recession\")\n",
    "plt.figure(figsize=(12, 6))\n",
    "sns.lineplot(data=df_melted, x=\"Year\", y=\"Sales\", hue=\"Vehicle Type\", style=\"Period\", markers=True, dashes=False)\n",
    "plt.xlabel(\"Year\")\n",
    "plt.ylabel(\"Number of Sales (in thousands)\")\n",
    "plt.title(\"Comparison of Sales Trend per Vehicle Type During Recession vs. Non-Recession Periods\")\n",
    "plt.legend(title=\"Vehicle Type\")\n",
    "plt.grid(True)\n",
    "plt.show()\n"
   ]
  },
  {
   "cell_type": "code",
   "execution_count": null,
   "id": "6bf3bc7e-30a8-43f3-87e4-09bee134fba0",
   "metadata": {},
   "outputs": [],
   "source": [
    "Ques4) Now you want to compare the sales of different vehicle types during a recession and a non-recession period?\n",
    "\n",
    "Ans4) import pandas as pd\n",
    "import matplotlib.pyplot as plt\n",
    "import seaborn as sns\n",
    "data = {\n",
    "    \"Year\": [2015, 2016, 2017, 2018, 2019, 2020, 2021, 2022, 2023, 2024],\n",
    "    \"Sedan\": [300, 350, 400, 380, 420, 310, 450, 470, 430, 460],\n",
    "    \"SUV\": [200, 250, 300, 310, 340, 360, 450, 480, 440, 460],\n",
    "    \"Truck\": [100, 120, 150, 140, 160, 130, 180, 190, 175, 200]\n",
    "}\n",
    "df = pd.DataFrame(data)\n",
    "df_melted = df.melt(id_vars=[\"Year\"], var_name=\"Vehicle Type\", value_name=\"Sales\")\n",
    "df_melted[\"Period\"] = df_melted[\"Year\"].apply(lambda x: \"Recession\" if x == 2020 else \"Non-Recession\")\n",
    "plt.figure(figsize=(12, 6))\n",
    "sns.barplot(data=df_melted, x=\"Vehicle Type\", y=\"Sales\", hue=\"Period\", ci=None)\n",
    "plt.xlabel(\"Vehicle Type\")\n",
    "plt.ylabel(\"Number of Sales (in thousands)\")\n",
    "plt.title(\"Comparison of Sales per Vehicle Type During Recession vs. Non-Recession Periods\")\n",
    "plt.legend(title=\"Period\")\n",
    "plt.grid(True)\n",
    "plt.show()"
   ]
  },
  {
   "cell_type": "code",
   "execution_count": null,
   "id": "3a8049f4-a213-4237-8b66-e177c7e9939f",
   "metadata": {},
   "outputs": [],
   "source": []
  },
  {
   "cell_type": "code",
   "execution_count": null,
   "id": "193b522f-a98b-44c8-8ddf-852947dc4437",
   "metadata": {},
   "outputs": [],
   "source": []
  },
  {
   "cell_type": "code",
   "execution_count": null,
   "id": "f91f5b49-b58a-4cda-a0c1-0362a531200d",
   "metadata": {},
   "outputs": [],
   "source": []
  },
  {
   "cell_type": "code",
   "execution_count": null,
   "id": "51a51d4d-8c7e-4276-bce8-da11e003c61c",
   "metadata": {},
   "outputs": [],
   "source": []
  },
  {
   "cell_type": "code",
   "execution_count": null,
   "id": "e40177c8-cddc-4b91-a9a3-0255dcf284be",
   "metadata": {},
   "outputs": [],
   "source": []
  },
  {
   "cell_type": "code",
   "execution_count": null,
   "id": "34060419-e9c3-457d-8caf-134ba23d78ab",
   "metadata": {},
   "outputs": [],
   "source": []
  },
  {
   "cell_type": "code",
   "execution_count": null,
   "id": "c34fd17e-ff69-417a-8184-71298288a376",
   "metadata": {},
   "outputs": [],
   "source": []
  },
  {
   "cell_type": "code",
   "execution_count": null,
   "id": "ced439be-97f1-457d-9e55-cddacd37f207",
   "metadata": {},
   "outputs": [],
   "source": []
  },
  {
   "cell_type": "code",
   "execution_count": null,
   "id": "a9f47376-9076-460b-b322-067095b041d7",
   "metadata": {},
   "outputs": [],
   "source": []
  },
  {
   "cell_type": "code",
   "execution_count": null,
   "id": "20bb16af-a3ba-40bc-be29-b7dcfb64aa21",
   "metadata": {},
   "outputs": [],
   "source": []
  }
 ],
 "metadata": {
  "kernelspec": {
   "display_name": "Python 3 (ipykernel)",
   "language": "python",
   "name": "python3"
  },
  "language_info": {
   "codemirror_mode": {
    "name": "ipython",
    "version": 3
   },
   "file_extension": ".py",
   "mimetype": "text/x-python",
   "name": "python",
   "nbconvert_exporter": "python",
   "pygments_lexer": "ipython3",
   "version": "3.12.4"
  }
 },
 "nbformat": 4,
 "nbformat_minor": 5
}
